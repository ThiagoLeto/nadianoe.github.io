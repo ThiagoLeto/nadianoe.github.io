{
 "cells": [
  {
   "cell_type": "code",
   "execution_count": 11,
   "metadata": {
    "pycharm": {
     "name": "#%%\n"
    }
   },
   "outputs": [
    {
     "data": {
      "text/html": "<div>\n<style scoped>\n    .dataframe tbody tr th:only-of-type {\n        vertical-align: middle;\n    }\n\n    .dataframe tbody tr th {\n        vertical-align: top;\n    }\n\n    .dataframe thead th {\n        text-align: right;\n    }\n</style>\n<table border=\"1\" class=\"dataframe\">\n  <thead>\n    <tr style=\"text-align: right;\">\n      <th></th>\n      <th>sexo</th>\n      <th>grupo_etario</th>\n      <th>jurisdiccion_residencia</th>\n      <th>jurisdiccion_residencia_id</th>\n      <th>depto_residencia</th>\n      <th>depto_residencia_id</th>\n      <th>jurisdiccion_aplicacion</th>\n      <th>jurisdiccion_aplicacion_id</th>\n      <th>depto_aplicacion</th>\n      <th>depto_aplicacion_id</th>\n      <th>fecha_aplicacion</th>\n      <th>vacuna</th>\n      <th>condicion_aplicacion</th>\n      <th>orden_dosis</th>\n      <th>lote_vacuna</th>\n    </tr>\n  </thead>\n  <tbody>\n    <tr>\n      <th>1</th>\n      <td>F</td>\n      <td>30-39</td>\n      <td>Córdoba</td>\n      <td>14</td>\n      <td>Capital</td>\n      <td>14</td>\n      <td>Córdoba</td>\n      <td>14</td>\n      <td>Capital</td>\n      <td>14</td>\n      <td>2021-03-03</td>\n      <td>Sinopharm</td>\n      <td>Riesgo</td>\n      <td>1</td>\n      <td>2021010039</td>\n    </tr>\n    <tr>\n      <th>5</th>\n      <td>M</td>\n      <td>50-59</td>\n      <td>Corrientes</td>\n      <td>18</td>\n      <td>Sauce</td>\n      <td>175</td>\n      <td>Corrientes</td>\n      <td>18</td>\n      <td>Sauce</td>\n      <td>175</td>\n      <td>2021-02-23</td>\n      <td>COVISHIELD</td>\n      <td>Estratégico</td>\n      <td>1</td>\n      <td>4120Z023</td>\n    </tr>\n    <tr>\n      <th>8</th>\n      <td>M</td>\n      <td>60-69</td>\n      <td>Córdoba</td>\n      <td>14</td>\n      <td>Capital</td>\n      <td>14</td>\n      <td>Córdoba</td>\n      <td>14</td>\n      <td>Capital</td>\n      <td>14</td>\n      <td>2021-04-09</td>\n      <td>Sputnik</td>\n      <td>&gt;60</td>\n      <td>1</td>\n      <td>I-340321</td>\n    </tr>\n  </tbody>\n</table>\n</div>",
      "text/plain": "  sexo grupo_etario jurisdiccion_residencia  jurisdiccion_residencia_id  \\\n1    F        30-39                 Córdoba                          14   \n5    M        50-59              Corrientes                          18   \n8    M        60-69                 Córdoba                          14   \n\n  depto_residencia  depto_residencia_id jurisdiccion_aplicacion  \\\n1          Capital                   14                 Córdoba   \n5            Sauce                  175              Corrientes   \n8          Capital                   14                 Córdoba   \n\n   jurisdiccion_aplicacion_id depto_aplicacion  depto_aplicacion_id  \\\n1                          14          Capital                   14   \n5                          18            Sauce                  175   \n8                          14          Capital                   14   \n\n  fecha_aplicacion      vacuna condicion_aplicacion  orden_dosis lote_vacuna  \n1       2021-03-03   Sinopharm               Riesgo            1  2021010039  \n5       2021-02-23  COVISHIELD          Estratégico            1    4120Z023  \n8       2021-04-09     Sputnik                  >60            1    I-340321  "
     },
     "execution_count": 11,
     "metadata": {},
     "output_type": "execute_result"
    }
   ],
   "source": [
    "# jupyter notebook --NotebookApp.iopub_data_rate_limit=1.0e10\n",
    "\n",
    "import pandas as pd\n",
    "df = pd.read_csv(\"datos_nomivac_covid19.csv\")\n",
    "df = pd.read_csv(\"datos_nomivac_covid19.csv\",sep=\";\",engine=\"python\")",
    "print(df)\n",
    "print(list(df.columns))\n",
    "print(list(df.index))\n",
    "print(df['grupo_etario'])\n",
    "df.loc[0:1000]\n",
    "df.loc[[1,5,8]]\n",
    "dfConIndiceDNI = df.set_index('DNI')\n",
    "df['sexo'].value_counts()\n",
    "df_2 = df.drop_duplicates()\n",
    "df.dropna(inplace=True)\n",
    "df.to_csv(\"nuevo.csv\")\n"
   ]
  },
  {
   "cell_type": "code",
   "execution_count": null,
   "metadata": {},
   "outputs": [],
   "source": []
  }
 ],
 "metadata": {
  "kernelspec": {
   "display_name": "Python 3",
   "language": "python",
   "name": "python3"
  },
  "language_info": {
   "codemirror_mode": {
    "name": "ipython",
    "version": 3
   },
   "file_extension": ".py",
   "mimetype": "text/x-python",
   "name": "python",
   "nbconvert_exporter": "python",
   "pygments_lexer": "ipython3",
   "version": "3.8.5"
  }
 },
 "nbformat": 4,
 "nbformat_minor": 1
}
